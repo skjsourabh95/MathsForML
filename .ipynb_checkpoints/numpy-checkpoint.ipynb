{
 "cells": [
  {
   "cell_type": "code",
   "execution_count": 14,
   "metadata": {},
   "outputs": [
    {
     "name": "stdout",
     "output_type": "stream",
     "text": [
      "[[1 2 3]\n",
      " [4 5 6]]\n"
     ]
    }
   ],
   "source": [
    "import numpy as np\n",
    "\n",
    "A = np.array([[1,2,3],\n",
    "              [4,5,6]])\n",
    "print (A)"
   ]
  },
  {
   "cell_type": "code",
   "execution_count": 15,
   "metadata": {},
   "outputs": [
    {
     "name": "stdout",
     "output_type": "stream",
     "text": [
      "[[ 2  4  6]\n",
      " [ 8 10 12]]\n"
     ]
    }
   ],
   "source": [
    "B = np.array([[1,2,3],\n",
    "              [4,5,6]])\n",
    "print (A+B)"
   ]
  },
  {
   "cell_type": "code",
   "execution_count": 4,
   "metadata": {},
   "outputs": [
    {
     "name": "stdout",
     "output_type": "stream",
     "text": [
      "[[0 0 0]\n",
      " [0 0 0]]\n"
     ]
    }
   ],
   "source": [
    "print(A-B)"
   ]
  },
  {
   "cell_type": "code",
   "execution_count": 5,
   "metadata": {},
   "outputs": [
    {
     "name": "stdout",
     "output_type": "stream",
     "text": [
      "[[1 4]\n",
      " [2 5]\n",
      " [3 6]]\n"
     ]
    }
   ],
   "source": [
    "print(A.T)"
   ]
  },
  {
   "cell_type": "code",
   "execution_count": 6,
   "metadata": {},
   "outputs": [
    {
     "name": "stdout",
     "output_type": "stream",
     "text": [
      "[[ 3  6  9]\n",
      " [12 15 18]]\n"
     ]
    }
   ],
   "source": [
    "print(A*3)"
   ]
  },
  {
   "cell_type": "code",
   "execution_count": 9,
   "metadata": {},
   "outputs": [
    {
     "name": "stdout",
     "output_type": "stream",
     "text": [
      "[[14 32]\n",
      " [32 77]]\n"
     ]
    }
   ],
   "source": [
    "print(np.dot(A,B.T))\n"
   ]
  },
  {
   "cell_type": "code",
   "execution_count": 10,
   "metadata": {},
   "outputs": [
    {
     "name": "stdout",
     "output_type": "stream",
     "text": [
      "[[17 22 27]\n",
      " [22 29 36]\n",
      " [27 36 45]]\n"
     ]
    }
   ],
   "source": [
    "print(A.T @ B)"
   ]
  },
  {
   "cell_type": "code",
   "execution_count": 16,
   "metadata": {},
   "outputs": [
    {
     "name": "stdout",
     "output_type": "stream",
     "text": [
      "[[ 0.2 -0.2]\n",
      " [-0.1  0.6]]\n"
     ]
    }
   ],
   "source": [
    "B = np.array([[6,2],\n",
    "              [1,2]])\n",
    "\n",
    "print(np.linalg.inv(B))"
   ]
  },
  {
   "cell_type": "code",
   "execution_count": 4,
   "metadata": {},
   "outputs": [
    {
     "name": "stdout",
     "output_type": "stream",
     "text": [
      "[[ 0.2 -0.2]\n",
      " [-0.1  0.6]]\n"
     ]
    }
   ],
   "source": [
    "import numpy as np\n",
    "\n",
    "B = np.matrix([[6,2],\n",
    "              [1,2]])\n",
    "\n",
    "print(B.I)"
   ]
  },
  {
   "cell_type": "code",
   "execution_count": 21,
   "metadata": {},
   "outputs": [
    {
     "name": "stdout",
     "output_type": "stream",
     "text": [
      "[[ 5.]\n",
      " [ 2.]]\n"
     ]
    }
   ],
   "source": [
    "import numpy as np\n",
    "#soving linear equations\n",
    "A = np.array([[2,4],\n",
    "              [6,2]])\n",
    "\n",
    "B = np.array([[18],\n",
    "              [34]])\n",
    "\n",
    "C = np.linalg.inv(A) @ B\n",
    "\n",
    "print(C)"
   ]
  },
  {
   "cell_type": "code",
   "execution_count": 32,
   "metadata": {},
   "outputs": [
    {
     "name": "stdout",
     "output_type": "stream",
     "text": [
      "2\n",
      "(2, 3)\n",
      "6\n",
      "int64\n",
      "8\n",
      "<memory at 0x7f713abe33a8>\n",
      "<class 'numpy.ndarray'>\n",
      "1 2 4\n"
     ]
    }
   ],
   "source": [
    "import numpy as np\n",
    "np.__version__\n",
    "'1.12.1'\n",
    "\n",
    "b = np.array([[1,2,3],[4,5,6]])    # Create a rank 2 array\n",
    "print(b.ndim) \n",
    "print(b.shape) \n",
    "print(b.size) \n",
    "print(b.dtype) \n",
    "print(b.itemsize) \n",
    "print(b.data) \n",
    "print(type(a)) \n",
    "print(b[0, 0], b[0, 1], b[1, 0])   # Prints \"1 2 4\""
   ]
  },
  {
   "cell_type": "code",
   "execution_count": 38,
   "metadata": {},
   "outputs": [
    {
     "data": {
      "text/plain": [
       "array([0, 0, 0, 0, 0, 0, 0, 0, 0, 0])"
      ]
     },
     "execution_count": 38,
     "metadata": {},
     "output_type": "execute_result"
    }
   ],
   "source": [
    "#creating arrays-Numpy arrays are homogeneous in nature, i.e., they comprise one data type (integer, float, double, etc.) unlike lists.\n",
    "\n",
    "#The function zeros creates an array full of zeros\n",
    "np.zeros(10, dtype='int')\n",
    "\n"
   ]
  },
  {
   "cell_type": "code",
   "execution_count": 41,
   "metadata": {},
   "outputs": [
    {
     "data": {
      "text/plain": [
       "array([[1, 1, 1, 1],\n",
       "       [1, 1, 1, 1],\n",
       "       [1, 1, 1, 1]])"
      ]
     },
     "execution_count": 41,
     "metadata": {},
     "output_type": "execute_result"
    }
   ],
   "source": [
    "#the function ones creates an array full of ones\n",
    "np.ones((3,4), dtype='int' )   \n",
    "\n"
   ]
  },
  {
   "cell_type": "code",
   "execution_count": 42,
   "metadata": {},
   "outputs": [
    {
     "data": {
      "text/plain": [
       "array([[ 0.,  0.,  0.],\n",
       "       [ 0.,  0.,  0.]])"
      ]
     },
     "execution_count": 42,
     "metadata": {},
     "output_type": "execute_result"
    }
   ],
   "source": [
    "#the function empty creates an array whose initial content is random and depends on the state of the memory.\n",
    "#By default, the dtype of the created array is float64.\n",
    "np.empty( (2,3) ) "
   ]
  },
  {
   "cell_type": "code",
   "execution_count": 40,
   "metadata": {},
   "outputs": [
    {
     "data": {
      "text/plain": [
       "array([[ 1.23,  1.23,  1.23,  1.23,  1.23],\n",
       "       [ 1.23,  1.23,  1.23,  1.23,  1.23],\n",
       "       [ 1.23,  1.23,  1.23,  1.23,  1.23]])"
      ]
     },
     "execution_count": 40,
     "metadata": {},
     "output_type": "execute_result"
    }
   ],
   "source": [
    "#creating a matrix with a predefined value\n",
    "np.full((3,5),1.23)"
   ]
  },
  {
   "cell_type": "code",
   "execution_count": 43,
   "metadata": {},
   "outputs": [
    {
     "data": {
      "text/plain": [
       "array([ 0,  2,  4,  6,  8, 10, 12, 14, 16, 18])"
      ]
     },
     "execution_count": 43,
     "metadata": {},
     "output_type": "execute_result"
    }
   ],
   "source": [
    "#create an array with a set sequence\n",
    "np.arange(0, 20, 2)"
   ]
  },
  {
   "cell_type": "code",
   "execution_count": 44,
   "metadata": {},
   "outputs": [
    {
     "data": {
      "text/plain": [
       "array([ 0.  ,  0.25,  0.5 ,  0.75,  1.  ])"
      ]
     },
     "execution_count": 44,
     "metadata": {},
     "output_type": "execute_result"
    }
   ],
   "source": [
    "#create an array of even space between the given range of values\n",
    "np.linspace(0, 1, 5)"
   ]
  },
  {
   "cell_type": "code",
   "execution_count": 45,
   "metadata": {},
   "outputs": [
    {
     "data": {
      "text/plain": [
       "array([[ 1.,  0.,  0.],\n",
       "       [ 0.,  1.,  0.],\n",
       "       [ 0.,  0.,  1.]])"
      ]
     },
     "execution_count": 45,
     "metadata": {},
     "output_type": "execute_result"
    }
   ],
   "source": [
    "#create an identity matrix\n",
    "np.eye(3)"
   ]
  },
  {
   "cell_type": "code",
   "execution_count": 48,
   "metadata": {},
   "outputs": [
    {
     "name": "stdout",
     "output_type": "stream",
     "text": [
      "[0 1 2 3 4 5]\n",
      "[[ 0  1  2]\n",
      " [ 3  4  5]\n",
      " [ 6  7  8]\n",
      " [ 9 10 11]]\n",
      "[[[ 0  1  2  3]\n",
      "  [ 4  5  6  7]\n",
      "  [ 8  9 10 11]]\n",
      "\n",
      " [[12 13 14 15]\n",
      "  [16 17 18 19]\n",
      "  [20 21 22 23]]]\n"
     ]
    }
   ],
   "source": [
    "#Printing Arrays\n",
    "a = np.arange(6)                         # 1d array\n",
    "print(a)\n",
    "b = np.arange(12).reshape(4,3)           # 2d array\n",
    "print(b)\n",
    "c = np.arange(24).reshape(2,3,4)         # 3d array\n",
    "print(c)"
   ]
  },
  {
   "cell_type": "code",
   "execution_count": 5,
   "metadata": {},
   "outputs": [
    {
     "data": {
      "text/plain": [
       "array([[12,  7,  5,  5],\n",
       "       [ 0,  1,  5,  9],\n",
       "       [ 3,  0,  5,  0]])"
      ]
     },
     "execution_count": 5,
     "metadata": {},
     "output_type": "execute_result"
    }
   ],
   "source": [
    "#in a multidimensional array, we need to specify row and column index\n",
    "x2=np.array([[3, 7, 5, 5],\n",
    "      [0, 1, 5, 9],\n",
    "      [3, 0, 5, 0]])\n",
    "\n",
    "\n",
    "#1st row and 2nd column value\n",
    "x2[2,3]\n",
    "\n",
    "#3rd row and last value from the 3rd column\n",
    "x2[2,-1]\n",
    "\n",
    "\n",
    "#replace value at 0,0 index\n",
    "x2[0,0] = 12\n",
    "x2\n"
   ]
  },
  {
   "cell_type": "code",
   "execution_count": 6,
   "metadata": {},
   "outputs": [
    {
     "data": {
      "text/plain": [
       "array([ 1,  2,  3,  3,  2,  1, 21, 21, 21])"
      ]
     },
     "execution_count": 6,
     "metadata": {},
     "output_type": "execute_result"
    }
   ],
   "source": [
    "#You can concatenate two or more arrays at once.\n",
    "x = np.array([1, 2, 3])\n",
    "y = np.array([3, 2, 1])\n",
    "z = [21,21,21]\n",
    "np.concatenate([x, y,z])"
   ]
  },
  {
   "cell_type": "code",
   "execution_count": 7,
   "metadata": {},
   "outputs": [
    {
     "name": "stdout",
     "output_type": "stream",
     "text": [
      "[[3 3 3]\n",
      " [3 3 3]]\n",
      "[[ 3.30282923  3.52934287  3.82381042]\n",
      " [ 3.3812812   3.30569497  3.46959042]]\n"
     ]
    }
   ],
   "source": [
    "a = np.ones((2,3), dtype=int)\n",
    "b = np.random.random((2,3))\n",
    "a *= 3\n",
    "print(a)\n",
    "b += a\n",
    "print(b)"
   ]
  },
  {
   "cell_type": "code",
   "execution_count": 10,
   "metadata": {},
   "outputs": [
    {
     "name": "stdout",
     "output_type": "stream",
     "text": [
      "18\n",
      "3.30282923121\n",
      "3\n"
     ]
    }
   ],
   "source": [
    "print(a.sum())\n",
    "print(b.min())\n",
    "print(a.max())\n",
    "\n"
   ]
  },
  {
   "cell_type": "code",
   "execution_count": 12,
   "metadata": {},
   "outputs": [
    {
     "name": "stdout",
     "output_type": "stream",
     "text": [
      "[6 6 6]\n",
      "[9 9]\n",
      "[[3 6 9]\n",
      " [3 6 9]]\n"
     ]
    }
   ],
   "source": [
    "print(a.sum(axis=0)) #sum of each column\n",
    "print(a.sum(axis=1)) #sum of each row\n",
    "print(a.cumsum(axis=1)) # cumulative sum along each row\n"
   ]
  },
  {
   "cell_type": "code",
   "execution_count": 13,
   "metadata": {},
   "outputs": [
    {
     "name": "stdout",
     "output_type": "stream",
     "text": [
      "[[ 1.73205081  1.73205081  1.73205081]\n",
      " [ 1.73205081  1.73205081  1.73205081]]\n"
     ]
    }
   ],
   "source": [
    "#NumPy provides familiar mathematical functions such as sin, cos, and exp. \n",
    "#In NumPy, these are called “universal functions”(ufunc)\n",
    "print(np.sqrt(a))"
   ]
  },
  {
   "cell_type": "code",
   "execution_count": 14,
   "metadata": {},
   "outputs": [
    {
     "name": "stdout",
     "output_type": "stream",
     "text": [
      "[ 1 11 21 31 41]\n"
     ]
    }
   ],
   "source": [
    "def f(x,y):\n",
    "    return 10*x+y\n",
    "\n",
    "b = np.fromfunction(f,(5,4),dtype=int)\n",
    "print( b[0:5, 1])"
   ]
  },
  {
   "cell_type": "code",
   "execution_count": 15,
   "metadata": {},
   "outputs": [
    {
     "data": {
      "text/plain": [
       "array([ 1, 11, 21, 31, 41])"
      ]
     },
     "execution_count": 15,
     "metadata": {},
     "output_type": "execute_result"
    }
   ],
   "source": [
    "b[ : ,1]                        # equivalent to the previous example"
   ]
  },
  {
   "cell_type": "code",
   "execution_count": 16,
   "metadata": {},
   "outputs": [
    {
     "data": {
      "text/plain": [
       "array([[10, 11, 12, 13],\n",
       "       [20, 21, 22, 23]])"
      ]
     },
     "execution_count": 16,
     "metadata": {},
     "output_type": "execute_result"
    }
   ],
   "source": [
    " b[1:3, : ]                      # each column in the second and third row of b"
   ]
  },
  {
   "cell_type": "code",
   "execution_count": 18,
   "metadata": {},
   "outputs": [
    {
     "name": "stdout",
     "output_type": "stream",
     "text": [
      "[  0   1   4   9  16  25  36  49  64  81 100 121]\n"
     ]
    }
   ],
   "source": [
    "a = np.arange(12)**2   \n",
    "print(a) # the first 12 square numbers"
   ]
  }
 ],
 "metadata": {
  "kernelspec": {
   "display_name": "Python 3.6",
   "language": "python",
   "name": "python36"
  },
  "language_info": {
   "codemirror_mode": {
    "name": "ipython",
    "version": 3
   },
   "file_extension": ".py",
   "mimetype": "text/x-python",
   "name": "python",
   "nbconvert_exporter": "python",
   "pygments_lexer": "ipython3",
   "version": "3.6.3"
  }
 },
 "nbformat": 4,
 "nbformat_minor": 2
}
